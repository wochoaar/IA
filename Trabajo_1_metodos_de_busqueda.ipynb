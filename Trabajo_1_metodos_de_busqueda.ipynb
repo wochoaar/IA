{
  "nbformat": 4,
  "nbformat_minor": 0,
  "metadata": {
    "colab": {
      "name": "Trabajo_1_metodos_de_busqueda.ipynb",
      "provenance": [],
      "authorship_tag": "ABX9TyOd9gDtsxKAhXJMCzIpklrP",
      "include_colab_link": true
    },
    "kernelspec": {
      "name": "python3",
      "display_name": "Python 3"
    }
  },
  "cells": [
    {
      "cell_type": "markdown",
      "metadata": {
        "id": "view-in-github",
        "colab_type": "text"
      },
      "source": [
        "<a href=\"https://colab.research.google.com/github/wochoaar/IA/blob/master/Trabajo_1_metodos_de_busqueda.ipynb\" target=\"_parent\"><img src=\"https://colab.research.google.com/assets/colab-badge.svg\" alt=\"Open In Colab\"/></a>"
      ]
    },
    {
      "cell_type": "code",
      "metadata": {
        "id": "K0KKFjZt9Vti",
        "colab_type": "code",
        "colab": {}
      },
      "source": [
        ""
      ],
      "execution_count": null,
      "outputs": []
    },
    {
      "cell_type": "markdown",
      "metadata": {
        "id": "PODpX-lK9icc",
        "colab_type": "text"
      },
      "source": [
        "**Trabajo 1: Solución de problemas mediante búsqueda**\n"
      ]
    }
  ]
}